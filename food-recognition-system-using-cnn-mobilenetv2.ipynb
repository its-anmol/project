{
 "cells": [
  {
   "cell_type": "code",
   "execution_count": 1,
   "id": "915b4f20",
   "metadata": {
    "execution": {
     "iopub.execute_input": "2023-12-03T02:33:05.823440Z",
     "iopub.status.busy": "2023-12-03T02:33:05.823018Z",
     "iopub.status.idle": "2023-12-03T02:33:11.310234Z",
     "shell.execute_reply": "2023-12-03T02:33:11.309334Z"
    },
    "papermill": {
     "duration": 5.498121,
     "end_time": "2023-12-03T02:33:11.312809",
     "exception": false,
     "start_time": "2023-12-03T02:33:05.814688",
     "status": "completed"
    },
    "tags": []
   },
   "outputs": [],
   "source": [
    "import numpy as np\n",
    "import pandas as pd\n",
    "from pathlib import Path\n",
    "import os.path\n",
    "\n",
    "import matplotlib.pyplot as plt\n",
    "import seaborn as sns\n",
    "\n",
    "from sklearn.model_selection import train_test_split\n",
    "\n",
    "import tensorflow as tf\n",
    "\n",
    "from sklearn.metrics import confusion_matrix, classification_report\n",
    "\n",
    "from keras.preprocessing.image import ImageDataGenerator, img_to_array, load_img \n",
    "from keras.preprocessing import image"
   ]
  },
  {
   "cell_type": "code",
   "execution_count": 2,
   "id": "37e6916c",
   "metadata": {
    "execution": {
     "iopub.execute_input": "2023-12-03T02:33:11.326945Z",
     "iopub.status.busy": "2023-12-03T02:33:11.326031Z",
     "iopub.status.idle": "2023-12-03T02:33:11.330321Z",
     "shell.execute_reply": "2023-12-03T02:33:11.329555Z"
    },
    "papermill": {
     "duration": 0.013313,
     "end_time": "2023-12-03T02:33:11.332304",
     "exception": false,
     "start_time": "2023-12-03T02:33:11.318991",
     "status": "completed"
    },
    "tags": []
   },
   "outputs": [],
   "source": [
    "image_dir = Path('../input/indian-food-classification/Food Classification')"
   ]
  },
  {
   "cell_type": "markdown",
   "id": "5d61e92e",
   "metadata": {
    "papermill": {
     "duration": 0.005382,
     "end_time": "2023-12-03T02:33:11.343269",
     "exception": false,
     "start_time": "2023-12-03T02:33:11.337887",
     "status": "completed"
    },
    "tags": []
   },
   "source": [
    "**Creating file dataframe**"
   ]
  },
  {
   "cell_type": "code",
   "execution_count": 3,
   "id": "fa7bda6f",
   "metadata": {
    "execution": {
     "iopub.execute_input": "2023-12-03T02:33:11.356266Z",
     "iopub.status.busy": "2023-12-03T02:33:11.355658Z",
     "iopub.status.idle": "2023-12-03T02:33:12.341394Z",
     "shell.execute_reply": "2023-12-03T02:33:12.340724Z"
    },
    "papermill": {
     "duration": 0.994719,
     "end_time": "2023-12-03T02:33:12.343579",
     "exception": false,
     "start_time": "2023-12-03T02:33:11.348860",
     "status": "completed"
    },
    "tags": []
   },
   "outputs": [],
   "source": [
    "filepaths = list(image_dir.glob(r'**/*.jpg'))\n",
    "#using glob to target particular image files\n",
    "\n",
    "labels = list(map(lambda x: os.path.split(os.path.split(x)[0])[1], filepaths))\n",
    "#separating the class names from the file paths and saving in labels\n",
    "\n",
    "filepaths = pd.Series(filepaths, name='Filepath').astype(str)\n",
    "labels = pd.Series(labels, name='Label')\n",
    "\n",
    "images = pd.concat([filepaths, labels], axis=1)\n",
    "\n",
    "category_samples = []\n",
    "for category in images['Label'].unique():\n",
    "    category_slice = images.query(\"Label == @category\")\n",
    "    category_samples.append(category_slice.sample(130, random_state=1))\n",
    "#concatenate category samples\n",
    "image_df = pd.concat(category_samples, axis=0).sample(frac=1.0, random_state=1).reset_index(drop=True)\n",
    "#sample 100% of the data again after shuffling\n",
    "\n"
   ]
  },
  {
   "cell_type": "code",
   "execution_count": 4,
   "id": "d4fb4c3d",
   "metadata": {
    "execution": {
     "iopub.execute_input": "2023-12-03T02:33:12.356472Z",
     "iopub.status.busy": "2023-12-03T02:33:12.356168Z",
     "iopub.status.idle": "2023-12-03T02:33:12.365651Z",
     "shell.execute_reply": "2023-12-03T02:33:12.364943Z"
    },
    "papermill": {
     "duration": 0.01913,
     "end_time": "2023-12-03T02:33:12.368601",
     "exception": false,
     "start_time": "2023-12-03T02:33:12.349471",
     "status": "completed"
    },
    "tags": []
   },
   "outputs": [
    {
     "data": {
      "text/plain": [
       "kaathi_rolls     130\n",
       "pizza            130\n",
       "chapati          130\n",
       "pakode           130\n",
       "kulfi            130\n",
       "chai             130\n",
       "jalebi           130\n",
       "momos            130\n",
       "masala_dosa      130\n",
       "idli             130\n",
       "kadai_paneer     130\n",
       "fried_rice       130\n",
       "chole_bhature    130\n",
       "paani_puri       130\n",
       "samosa           130\n",
       "butter_naan      130\n",
       "burger           130\n",
       "dal_makhani      130\n",
       "pav_bhaji        130\n",
       "dhokla           130\n",
       "Name: Label, dtype: int64"
      ]
     },
     "execution_count": 4,
     "metadata": {},
     "output_type": "execute_result"
    }
   ],
   "source": [
    "image_df['Label'].value_counts()"
   ]
  },
  {
   "cell_type": "markdown",
   "id": "809bcce1",
   "metadata": {
    "papermill": {
     "duration": 0.005599,
     "end_time": "2023-12-03T02:33:12.381088",
     "exception": false,
     "start_time": "2023-12-03T02:33:12.375489",
     "status": "completed"
    },
    "tags": []
   },
   "source": [
    "**train-test split**"
   ]
  },
  {
   "cell_type": "code",
   "execution_count": 5,
   "id": "a38cbd29",
   "metadata": {
    "execution": {
     "iopub.execute_input": "2023-12-03T02:33:12.394311Z",
     "iopub.status.busy": "2023-12-03T02:33:12.393724Z",
     "iopub.status.idle": "2023-12-03T02:33:12.399135Z",
     "shell.execute_reply": "2023-12-03T02:33:12.398380Z"
    },
    "papermill": {
     "duration": 0.013955,
     "end_time": "2023-12-03T02:33:12.400839",
     "exception": false,
     "start_time": "2023-12-03T02:33:12.386884",
     "status": "completed"
    },
    "tags": []
   },
   "outputs": [],
   "source": [
    "train_df, test_df = train_test_split(image_df, train_size=0.7, shuffle=True, random_state=1)\n",
    "#70% training 30% test\n",
    "#since we are shuffling, random state = 1"
   ]
  },
  {
   "cell_type": "markdown",
   "id": "76b2501b",
   "metadata": {
    "papermill": {
     "duration": 0.005797,
     "end_time": "2023-12-03T02:33:12.412442",
     "exception": false,
     "start_time": "2023-12-03T02:33:12.406645",
     "status": "completed"
    },
    "tags": []
   },
   "source": [
    "**creating generators**"
   ]
  },
  {
   "cell_type": "code",
   "execution_count": 6,
   "id": "4dcc0840",
   "metadata": {
    "execution": {
     "iopub.execute_input": "2023-12-03T02:33:12.425757Z",
     "iopub.status.busy": "2023-12-03T02:33:12.425006Z",
     "iopub.status.idle": "2023-12-03T02:33:12.701784Z",
     "shell.execute_reply": "2023-12-03T02:33:12.700888Z"
    },
    "papermill": {
     "duration": 0.285615,
     "end_time": "2023-12-03T02:33:12.704014",
     "exception": false,
     "start_time": "2023-12-03T02:33:12.418399",
     "status": "completed"
    },
    "tags": []
   },
   "outputs": [],
   "source": [
    "#limited memory so we train in batches to recycle memory\n",
    "train_generator = tf.keras.preprocessing.image.ImageDataGenerator(\n",
    "    preprocessing_function=tf.keras.applications.mobilenet_v2.preprocess_input,\n",
    "    validation_split=0.2\n",
    ")\n",
    "\n",
    "test_generator = tf.keras.preprocessing.image.ImageDataGenerator(\n",
    "    preprocessing_function=tf.keras.applications.mobilenet_v2.preprocess_input\n",
    ")"
   ]
  },
  {
   "cell_type": "code",
   "execution_count": 7,
   "id": "5466ad1c",
   "metadata": {
    "execution": {
     "iopub.execute_input": "2023-12-03T02:33:12.728999Z",
     "iopub.status.busy": "2023-12-03T02:33:12.728667Z",
     "iopub.status.idle": "2023-12-03T02:33:12.797772Z",
     "shell.execute_reply": "2023-12-03T02:33:12.796891Z"
    },
    "papermill": {
     "duration": 0.077879,
     "end_time": "2023-12-03T02:33:12.799768",
     "exception": false,
     "start_time": "2023-12-03T02:33:12.721889",
     "status": "completed"
    },
    "tags": []
   },
   "outputs": [
    {
     "name": "stdout",
     "output_type": "stream",
     "text": [
      "Found 1456 validated image filenames belonging to 20 classes.\n",
      "Found 363 validated image filenames belonging to 20 classes.\n",
      "Found 781 validated image filenames belonging to 20 classes.\n"
     ]
    }
   ],
   "source": [
    "#this train_images will be passed into our fit function\n",
    "train_images = train_generator.flow_from_dataframe(\n",
    "    dataframe=train_df,\n",
    "    x_col='Filepath',\n",
    "    y_col='Label',\n",
    "    target_size=(224, 224),\n",
    "#default image size for mobilenetV2 is 224x224\n",
    "    color_mode='rgb',\n",
    "    class_mode='categorical',\n",
    "    batch_size=32,\n",
    "    shuffle=True,\n",
    "#shuffle after each epoch\n",
    "    seed=42,\n",
    "    subset='training'\n",
    "#only available if validation_split is used to specify whether to use validation subset 0.2 or training subset\n",
    "\n",
    ")\n",
    "\n",
    "validation_images = train_generator.flow_from_dataframe(\n",
    "    dataframe=train_df,\n",
    "    x_col='Filepath',\n",
    "    y_col='Label',\n",
    "    target_size=(224, 224),\n",
    "    color_mode='rgb',\n",
    "    class_mode='categorical',\n",
    "    batch_size=32,\n",
    "    shuffle=True,\n",
    "    seed=42,\n",
    "    subset='validation'\n",
    ")\n",
    "\n",
    "test_images = test_generator.flow_from_dataframe(\n",
    "    dataframe=test_df,\n",
    "    x_col='Filepath',\n",
    "    y_col='Label',\n",
    "    target_size=(224, 224),\n",
    "    color_mode='rgb',\n",
    "    class_mode='categorical',\n",
    "    batch_size=32,\n",
    "    shuffle=False\n",
    ")"
   ]
  },
  {
   "cell_type": "markdown",
   "id": "812b43f3",
   "metadata": {
    "papermill": {
     "duration": 0.006067,
     "end_time": "2023-12-03T02:33:12.812063",
     "exception": false,
     "start_time": "2023-12-03T02:33:12.805996",
     "status": "completed"
    },
    "tags": []
   },
   "source": [
    "**modeling**"
   ]
  },
  {
   "cell_type": "code",
   "execution_count": 8,
   "id": "4a063e6e",
   "metadata": {
    "execution": {
     "iopub.execute_input": "2023-12-03T02:33:12.825097Z",
     "iopub.status.busy": "2023-12-03T02:33:12.824606Z",
     "iopub.status.idle": "2023-12-03T02:33:17.901921Z",
     "shell.execute_reply": "2023-12-03T02:33:17.901229Z"
    },
    "papermill": {
     "duration": 5.086169,
     "end_time": "2023-12-03T02:33:17.904114",
     "exception": false,
     "start_time": "2023-12-03T02:33:12.817945",
     "status": "completed"
    },
    "tags": []
   },
   "outputs": [
    {
     "name": "stdout",
     "output_type": "stream",
     "text": [
      "Downloading data from https://storage.googleapis.com/tensorflow/keras-applications/mobilenet_v2/mobilenet_v2_weights_tf_dim_ordering_tf_kernels_1.0_224_no_top.h5\n",
      "9412608/9406464 [==============================] - 1s 0us/step\n",
      "9420800/9406464 [==============================] - 1s 0us/step\n"
     ]
    }
   ],
   "source": [
    "pretrained_model = tf.keras.applications.MobileNetV2(\n",
    "    input_shape=(224, 224, 3),\n",
    "    include_top=False,\n",
    "#we dont wanna keep the classification layer of the og dataset on which the model is pretrained we just want our dataset's classification layer\n",
    "#originally trained on imagenet  dataset 1000 classes\n",
    "    weights='imagenet',\n",
    "#to keep the same weights\n",
    "    pooling='avg'\n",
    "#output is 1d now\n",
    ")\n",
    "\n",
    "pretrained_model.trainable = False\n",
    "#to not change the original imagenet weights\n",
    "#We are transfering learning of the model so we keep it as it is\n",
    "#This model is good for feature extraction\n",
    "#Use the same model, remove the top layer, use your own top layer i.e. classes, dataset"
   ]
  },
  {
   "cell_type": "code",
   "execution_count": 9,
   "id": "831f3e58",
   "metadata": {
    "execution": {
     "iopub.execute_input": "2023-12-03T02:33:17.922655Z",
     "iopub.status.busy": "2023-12-03T02:33:17.921899Z",
     "iopub.status.idle": "2023-12-03T02:33:17.978465Z",
     "shell.execute_reply": "2023-12-03T02:33:17.977709Z"
    },
    "papermill": {
     "duration": 0.069697,
     "end_time": "2023-12-03T02:33:17.982134",
     "exception": false,
     "start_time": "2023-12-03T02:33:17.912437",
     "status": "completed"
    },
    "tags": []
   },
   "outputs": [
    {
     "name": "stdout",
     "output_type": "stream",
     "text": [
      "Model: \"model\"\n",
      "__________________________________________________________________________________________________\n",
      "Layer (type)                    Output Shape         Param #     Connected to                     \n",
      "==================================================================================================\n",
      "input_1 (InputLayer)            [(None, 224, 224, 3) 0                                            \n",
      "__________________________________________________________________________________________________\n",
      "Conv1 (Conv2D)                  (None, 112, 112, 32) 864         input_1[0][0]                    \n",
      "__________________________________________________________________________________________________\n",
      "bn_Conv1 (BatchNormalization)   (None, 112, 112, 32) 128         Conv1[0][0]                      \n",
      "__________________________________________________________________________________________________\n",
      "Conv1_relu (ReLU)               (None, 112, 112, 32) 0           bn_Conv1[0][0]                   \n",
      "__________________________________________________________________________________________________\n",
      "expanded_conv_depthwise (Depthw (None, 112, 112, 32) 288         Conv1_relu[0][0]                 \n",
      "__________________________________________________________________________________________________\n",
      "expanded_conv_depthwise_BN (Bat (None, 112, 112, 32) 128         expanded_conv_depthwise[0][0]    \n",
      "__________________________________________________________________________________________________\n",
      "expanded_conv_depthwise_relu (R (None, 112, 112, 32) 0           expanded_conv_depthwise_BN[0][0] \n",
      "__________________________________________________________________________________________________\n",
      "expanded_conv_project (Conv2D)  (None, 112, 112, 16) 512         expanded_conv_depthwise_relu[0][0\n",
      "__________________________________________________________________________________________________\n",
      "expanded_conv_project_BN (Batch (None, 112, 112, 16) 64          expanded_conv_project[0][0]      \n",
      "__________________________________________________________________________________________________\n",
      "block_1_expand (Conv2D)         (None, 112, 112, 96) 1536        expanded_conv_project_BN[0][0]   \n",
      "__________________________________________________________________________________________________\n",
      "block_1_expand_BN (BatchNormali (None, 112, 112, 96) 384         block_1_expand[0][0]             \n",
      "__________________________________________________________________________________________________\n",
      "block_1_expand_relu (ReLU)      (None, 112, 112, 96) 0           block_1_expand_BN[0][0]          \n",
      "__________________________________________________________________________________________________\n",
      "block_1_pad (ZeroPadding2D)     (None, 113, 113, 96) 0           block_1_expand_relu[0][0]        \n",
      "__________________________________________________________________________________________________\n",
      "block_1_depthwise (DepthwiseCon (None, 56, 56, 96)   864         block_1_pad[0][0]                \n",
      "__________________________________________________________________________________________________\n",
      "block_1_depthwise_BN (BatchNorm (None, 56, 56, 96)   384         block_1_depthwise[0][0]          \n",
      "__________________________________________________________________________________________________\n",
      "block_1_depthwise_relu (ReLU)   (None, 56, 56, 96)   0           block_1_depthwise_BN[0][0]       \n",
      "__________________________________________________________________________________________________\n",
      "block_1_project (Conv2D)        (None, 56, 56, 24)   2304        block_1_depthwise_relu[0][0]     \n",
      "__________________________________________________________________________________________________\n",
      "block_1_project_BN (BatchNormal (None, 56, 56, 24)   96          block_1_project[0][0]            \n",
      "__________________________________________________________________________________________________\n",
      "block_2_expand (Conv2D)         (None, 56, 56, 144)  3456        block_1_project_BN[0][0]         \n",
      "__________________________________________________________________________________________________\n",
      "block_2_expand_BN (BatchNormali (None, 56, 56, 144)  576         block_2_expand[0][0]             \n",
      "__________________________________________________________________________________________________\n",
      "block_2_expand_relu (ReLU)      (None, 56, 56, 144)  0           block_2_expand_BN[0][0]          \n",
      "__________________________________________________________________________________________________\n",
      "block_2_depthwise (DepthwiseCon (None, 56, 56, 144)  1296        block_2_expand_relu[0][0]        \n",
      "__________________________________________________________________________________________________\n",
      "block_2_depthwise_BN (BatchNorm (None, 56, 56, 144)  576         block_2_depthwise[0][0]          \n",
      "__________________________________________________________________________________________________\n",
      "block_2_depthwise_relu (ReLU)   (None, 56, 56, 144)  0           block_2_depthwise_BN[0][0]       \n",
      "__________________________________________________________________________________________________\n",
      "block_2_project (Conv2D)        (None, 56, 56, 24)   3456        block_2_depthwise_relu[0][0]     \n",
      "__________________________________________________________________________________________________\n",
      "block_2_project_BN (BatchNormal (None, 56, 56, 24)   96          block_2_project[0][0]            \n",
      "__________________________________________________________________________________________________\n",
      "block_2_add (Add)               (None, 56, 56, 24)   0           block_1_project_BN[0][0]         \n",
      "                                                                 block_2_project_BN[0][0]         \n",
      "__________________________________________________________________________________________________\n",
      "block_3_expand (Conv2D)         (None, 56, 56, 144)  3456        block_2_add[0][0]                \n",
      "__________________________________________________________________________________________________\n",
      "block_3_expand_BN (BatchNormali (None, 56, 56, 144)  576         block_3_expand[0][0]             \n",
      "__________________________________________________________________________________________________\n",
      "block_3_expand_relu (ReLU)      (None, 56, 56, 144)  0           block_3_expand_BN[0][0]          \n",
      "__________________________________________________________________________________________________\n",
      "block_3_pad (ZeroPadding2D)     (None, 57, 57, 144)  0           block_3_expand_relu[0][0]        \n",
      "__________________________________________________________________________________________________\n",
      "block_3_depthwise (DepthwiseCon (None, 28, 28, 144)  1296        block_3_pad[0][0]                \n",
      "__________________________________________________________________________________________________\n",
      "block_3_depthwise_BN (BatchNorm (None, 28, 28, 144)  576         block_3_depthwise[0][0]          \n",
      "__________________________________________________________________________________________________\n",
      "block_3_depthwise_relu (ReLU)   (None, 28, 28, 144)  0           block_3_depthwise_BN[0][0]       \n",
      "__________________________________________________________________________________________________\n",
      "block_3_project (Conv2D)        (None, 28, 28, 32)   4608        block_3_depthwise_relu[0][0]     \n",
      "__________________________________________________________________________________________________\n",
      "block_3_project_BN (BatchNormal (None, 28, 28, 32)   128         block_3_project[0][0]            \n",
      "__________________________________________________________________________________________________\n",
      "block_4_expand (Conv2D)         (None, 28, 28, 192)  6144        block_3_project_BN[0][0]         \n",
      "__________________________________________________________________________________________________\n",
      "block_4_expand_BN (BatchNormali (None, 28, 28, 192)  768         block_4_expand[0][0]             \n",
      "__________________________________________________________________________________________________\n",
      "block_4_expand_relu (ReLU)      (None, 28, 28, 192)  0           block_4_expand_BN[0][0]          \n",
      "__________________________________________________________________________________________________\n",
      "block_4_depthwise (DepthwiseCon (None, 28, 28, 192)  1728        block_4_expand_relu[0][0]        \n",
      "__________________________________________________________________________________________________\n",
      "block_4_depthwise_BN (BatchNorm (None, 28, 28, 192)  768         block_4_depthwise[0][0]          \n",
      "__________________________________________________________________________________________________\n",
      "block_4_depthwise_relu (ReLU)   (None, 28, 28, 192)  0           block_4_depthwise_BN[0][0]       \n",
      "__________________________________________________________________________________________________\n",
      "block_4_project (Conv2D)        (None, 28, 28, 32)   6144        block_4_depthwise_relu[0][0]     \n",
      "__________________________________________________________________________________________________\n",
      "block_4_project_BN (BatchNormal (None, 28, 28, 32)   128         block_4_project[0][0]            \n",
      "__________________________________________________________________________________________________\n",
      "block_4_add (Add)               (None, 28, 28, 32)   0           block_3_project_BN[0][0]         \n",
      "                                                                 block_4_project_BN[0][0]         \n",
      "__________________________________________________________________________________________________\n",
      "block_5_expand (Conv2D)         (None, 28, 28, 192)  6144        block_4_add[0][0]                \n",
      "__________________________________________________________________________________________________\n",
      "block_5_expand_BN (BatchNormali (None, 28, 28, 192)  768         block_5_expand[0][0]             \n",
      "__________________________________________________________________________________________________\n",
      "block_5_expand_relu (ReLU)      (None, 28, 28, 192)  0           block_5_expand_BN[0][0]          \n",
      "__________________________________________________________________________________________________\n",
      "block_5_depthwise (DepthwiseCon (None, 28, 28, 192)  1728        block_5_expand_relu[0][0]        \n",
      "__________________________________________________________________________________________________\n",
      "block_5_depthwise_BN (BatchNorm (None, 28, 28, 192)  768         block_5_depthwise[0][0]          \n",
      "__________________________________________________________________________________________________\n",
      "block_5_depthwise_relu (ReLU)   (None, 28, 28, 192)  0           block_5_depthwise_BN[0][0]       \n",
      "__________________________________________________________________________________________________\n",
      "block_5_project (Conv2D)        (None, 28, 28, 32)   6144        block_5_depthwise_relu[0][0]     \n",
      "__________________________________________________________________________________________________\n",
      "block_5_project_BN (BatchNormal (None, 28, 28, 32)   128         block_5_project[0][0]            \n",
      "__________________________________________________________________________________________________\n",
      "block_5_add (Add)               (None, 28, 28, 32)   0           block_4_add[0][0]                \n",
      "                                                                 block_5_project_BN[0][0]         \n",
      "__________________________________________________________________________________________________\n",
      "block_6_expand (Conv2D)         (None, 28, 28, 192)  6144        block_5_add[0][0]                \n",
      "__________________________________________________________________________________________________\n",
      "block_6_expand_BN (BatchNormali (None, 28, 28, 192)  768         block_6_expand[0][0]             \n",
      "__________________________________________________________________________________________________\n",
      "block_6_expand_relu (ReLU)      (None, 28, 28, 192)  0           block_6_expand_BN[0][0]          \n",
      "__________________________________________________________________________________________________\n",
      "block_6_pad (ZeroPadding2D)     (None, 29, 29, 192)  0           block_6_expand_relu[0][0]        \n",
      "__________________________________________________________________________________________________\n",
      "block_6_depthwise (DepthwiseCon (None, 14, 14, 192)  1728        block_6_pad[0][0]                \n",
      "__________________________________________________________________________________________________\n",
      "block_6_depthwise_BN (BatchNorm (None, 14, 14, 192)  768         block_6_depthwise[0][0]          \n",
      "__________________________________________________________________________________________________\n",
      "block_6_depthwise_relu (ReLU)   (None, 14, 14, 192)  0           block_6_depthwise_BN[0][0]       \n",
      "__________________________________________________________________________________________________\n",
      "block_6_project (Conv2D)        (None, 14, 14, 64)   12288       block_6_depthwise_relu[0][0]     \n",
      "__________________________________________________________________________________________________\n",
      "block_6_project_BN (BatchNormal (None, 14, 14, 64)   256         block_6_project[0][0]            \n",
      "__________________________________________________________________________________________________\n",
      "block_7_expand (Conv2D)         (None, 14, 14, 384)  24576       block_6_project_BN[0][0]         \n",
      "__________________________________________________________________________________________________\n",
      "block_7_expand_BN (BatchNormali (None, 14, 14, 384)  1536        block_7_expand[0][0]             \n",
      "__________________________________________________________________________________________________\n",
      "block_7_expand_relu (ReLU)      (None, 14, 14, 384)  0           block_7_expand_BN[0][0]          \n",
      "__________________________________________________________________________________________________\n",
      "block_7_depthwise (DepthwiseCon (None, 14, 14, 384)  3456        block_7_expand_relu[0][0]        \n",
      "__________________________________________________________________________________________________\n",
      "block_7_depthwise_BN (BatchNorm (None, 14, 14, 384)  1536        block_7_depthwise[0][0]          \n",
      "__________________________________________________________________________________________________\n",
      "block_7_depthwise_relu (ReLU)   (None, 14, 14, 384)  0           block_7_depthwise_BN[0][0]       \n",
      "__________________________________________________________________________________________________\n",
      "block_7_project (Conv2D)        (None, 14, 14, 64)   24576       block_7_depthwise_relu[0][0]     \n",
      "__________________________________________________________________________________________________\n",
      "block_7_project_BN (BatchNormal (None, 14, 14, 64)   256         block_7_project[0][0]            \n",
      "__________________________________________________________________________________________________\n",
      "block_7_add (Add)               (None, 14, 14, 64)   0           block_6_project_BN[0][0]         \n",
      "                                                                 block_7_project_BN[0][0]         \n",
      "__________________________________________________________________________________________________\n",
      "block_8_expand (Conv2D)         (None, 14, 14, 384)  24576       block_7_add[0][0]                \n",
      "__________________________________________________________________________________________________\n",
      "block_8_expand_BN (BatchNormali (None, 14, 14, 384)  1536        block_8_expand[0][0]             \n",
      "__________________________________________________________________________________________________\n",
      "block_8_expand_relu (ReLU)      (None, 14, 14, 384)  0           block_8_expand_BN[0][0]          \n",
      "__________________________________________________________________________________________________\n",
      "block_8_depthwise (DepthwiseCon (None, 14, 14, 384)  3456        block_8_expand_relu[0][0]        \n",
      "__________________________________________________________________________________________________\n",
      "block_8_depthwise_BN (BatchNorm (None, 14, 14, 384)  1536        block_8_depthwise[0][0]          \n",
      "__________________________________________________________________________________________________\n",
      "block_8_depthwise_relu (ReLU)   (None, 14, 14, 384)  0           block_8_depthwise_BN[0][0]       \n",
      "__________________________________________________________________________________________________\n",
      "block_8_project (Conv2D)        (None, 14, 14, 64)   24576       block_8_depthwise_relu[0][0]     \n",
      "__________________________________________________________________________________________________\n",
      "block_8_project_BN (BatchNormal (None, 14, 14, 64)   256         block_8_project[0][0]            \n",
      "__________________________________________________________________________________________________\n",
      "block_8_add (Add)               (None, 14, 14, 64)   0           block_7_add[0][0]                \n",
      "                                                                 block_8_project_BN[0][0]         \n",
      "__________________________________________________________________________________________________\n",
      "block_9_expand (Conv2D)         (None, 14, 14, 384)  24576       block_8_add[0][0]                \n",
      "__________________________________________________________________________________________________\n",
      "block_9_expand_BN (BatchNormali (None, 14, 14, 384)  1536        block_9_expand[0][0]             \n",
      "__________________________________________________________________________________________________\n",
      "block_9_expand_relu (ReLU)      (None, 14, 14, 384)  0           block_9_expand_BN[0][0]          \n",
      "__________________________________________________________________________________________________\n",
      "block_9_depthwise (DepthwiseCon (None, 14, 14, 384)  3456        block_9_expand_relu[0][0]        \n",
      "__________________________________________________________________________________________________\n",
      "block_9_depthwise_BN (BatchNorm (None, 14, 14, 384)  1536        block_9_depthwise[0][0]          \n",
      "__________________________________________________________________________________________________\n",
      "block_9_depthwise_relu (ReLU)   (None, 14, 14, 384)  0           block_9_depthwise_BN[0][0]       \n",
      "__________________________________________________________________________________________________\n",
      "block_9_project (Conv2D)        (None, 14, 14, 64)   24576       block_9_depthwise_relu[0][0]     \n",
      "__________________________________________________________________________________________________\n",
      "block_9_project_BN (BatchNormal (None, 14, 14, 64)   256         block_9_project[0][0]            \n",
      "__________________________________________________________________________________________________\n",
      "block_9_add (Add)               (None, 14, 14, 64)   0           block_8_add[0][0]                \n",
      "                                                                 block_9_project_BN[0][0]         \n",
      "__________________________________________________________________________________________________\n",
      "block_10_expand (Conv2D)        (None, 14, 14, 384)  24576       block_9_add[0][0]                \n",
      "__________________________________________________________________________________________________\n",
      "block_10_expand_BN (BatchNormal (None, 14, 14, 384)  1536        block_10_expand[0][0]            \n",
      "__________________________________________________________________________________________________\n",
      "block_10_expand_relu (ReLU)     (None, 14, 14, 384)  0           block_10_expand_BN[0][0]         \n",
      "__________________________________________________________________________________________________\n",
      "block_10_depthwise (DepthwiseCo (None, 14, 14, 384)  3456        block_10_expand_relu[0][0]       \n",
      "__________________________________________________________________________________________________\n",
      "block_10_depthwise_BN (BatchNor (None, 14, 14, 384)  1536        block_10_depthwise[0][0]         \n",
      "__________________________________________________________________________________________________\n",
      "block_10_depthwise_relu (ReLU)  (None, 14, 14, 384)  0           block_10_depthwise_BN[0][0]      \n",
      "__________________________________________________________________________________________________\n",
      "block_10_project (Conv2D)       (None, 14, 14, 96)   36864       block_10_depthwise_relu[0][0]    \n",
      "__________________________________________________________________________________________________\n",
      "block_10_project_BN (BatchNorma (None, 14, 14, 96)   384         block_10_project[0][0]           \n",
      "__________________________________________________________________________________________________\n",
      "block_11_expand (Conv2D)        (None, 14, 14, 576)  55296       block_10_project_BN[0][0]        \n",
      "__________________________________________________________________________________________________\n",
      "block_11_expand_BN (BatchNormal (None, 14, 14, 576)  2304        block_11_expand[0][0]            \n",
      "__________________________________________________________________________________________________\n",
      "block_11_expand_relu (ReLU)     (None, 14, 14, 576)  0           block_11_expand_BN[0][0]         \n",
      "__________________________________________________________________________________________________\n",
      "block_11_depthwise (DepthwiseCo (None, 14, 14, 576)  5184        block_11_expand_relu[0][0]       \n",
      "__________________________________________________________________________________________________\n",
      "block_11_depthwise_BN (BatchNor (None, 14, 14, 576)  2304        block_11_depthwise[0][0]         \n",
      "__________________________________________________________________________________________________\n",
      "block_11_depthwise_relu (ReLU)  (None, 14, 14, 576)  0           block_11_depthwise_BN[0][0]      \n",
      "__________________________________________________________________________________________________\n",
      "block_11_project (Conv2D)       (None, 14, 14, 96)   55296       block_11_depthwise_relu[0][0]    \n",
      "__________________________________________________________________________________________________\n",
      "block_11_project_BN (BatchNorma (None, 14, 14, 96)   384         block_11_project[0][0]           \n",
      "__________________________________________________________________________________________________\n",
      "block_11_add (Add)              (None, 14, 14, 96)   0           block_10_project_BN[0][0]        \n",
      "                                                                 block_11_project_BN[0][0]        \n",
      "__________________________________________________________________________________________________\n",
      "block_12_expand (Conv2D)        (None, 14, 14, 576)  55296       block_11_add[0][0]               \n",
      "__________________________________________________________________________________________________\n",
      "block_12_expand_BN (BatchNormal (None, 14, 14, 576)  2304        block_12_expand[0][0]            \n",
      "__________________________________________________________________________________________________\n",
      "block_12_expand_relu (ReLU)     (None, 14, 14, 576)  0           block_12_expand_BN[0][0]         \n",
      "__________________________________________________________________________________________________\n",
      "block_12_depthwise (DepthwiseCo (None, 14, 14, 576)  5184        block_12_expand_relu[0][0]       \n",
      "__________________________________________________________________________________________________\n",
      "block_12_depthwise_BN (BatchNor (None, 14, 14, 576)  2304        block_12_depthwise[0][0]         \n",
      "__________________________________________________________________________________________________\n",
      "block_12_depthwise_relu (ReLU)  (None, 14, 14, 576)  0           block_12_depthwise_BN[0][0]      \n",
      "__________________________________________________________________________________________________\n",
      "block_12_project (Conv2D)       (None, 14, 14, 96)   55296       block_12_depthwise_relu[0][0]    \n",
      "__________________________________________________________________________________________________\n",
      "block_12_project_BN (BatchNorma (None, 14, 14, 96)   384         block_12_project[0][0]           \n",
      "__________________________________________________________________________________________________\n",
      "block_12_add (Add)              (None, 14, 14, 96)   0           block_11_add[0][0]               \n",
      "                                                                 block_12_project_BN[0][0]        \n",
      "__________________________________________________________________________________________________\n",
      "block_13_expand (Conv2D)        (None, 14, 14, 576)  55296       block_12_add[0][0]               \n",
      "__________________________________________________________________________________________________\n",
      "block_13_expand_BN (BatchNormal (None, 14, 14, 576)  2304        block_13_expand[0][0]            \n",
      "__________________________________________________________________________________________________\n",
      "block_13_expand_relu (ReLU)     (None, 14, 14, 576)  0           block_13_expand_BN[0][0]         \n",
      "__________________________________________________________________________________________________\n",
      "block_13_pad (ZeroPadding2D)    (None, 15, 15, 576)  0           block_13_expand_relu[0][0]       \n",
      "__________________________________________________________________________________________________\n",
      "block_13_depthwise (DepthwiseCo (None, 7, 7, 576)    5184        block_13_pad[0][0]               \n",
      "__________________________________________________________________________________________________\n",
      "block_13_depthwise_BN (BatchNor (None, 7, 7, 576)    2304        block_13_depthwise[0][0]         \n",
      "__________________________________________________________________________________________________\n",
      "block_13_depthwise_relu (ReLU)  (None, 7, 7, 576)    0           block_13_depthwise_BN[0][0]      \n",
      "__________________________________________________________________________________________________\n",
      "block_13_project (Conv2D)       (None, 7, 7, 160)    92160       block_13_depthwise_relu[0][0]    \n",
      "__________________________________________________________________________________________________\n",
      "block_13_project_BN (BatchNorma (None, 7, 7, 160)    640         block_13_project[0][0]           \n",
      "__________________________________________________________________________________________________\n",
      "block_14_expand (Conv2D)        (None, 7, 7, 960)    153600      block_13_project_BN[0][0]        \n",
      "__________________________________________________________________________________________________\n",
      "block_14_expand_BN (BatchNormal (None, 7, 7, 960)    3840        block_14_expand[0][0]            \n",
      "__________________________________________________________________________________________________\n",
      "block_14_expand_relu (ReLU)     (None, 7, 7, 960)    0           block_14_expand_BN[0][0]         \n",
      "__________________________________________________________________________________________________\n",
      "block_14_depthwise (DepthwiseCo (None, 7, 7, 960)    8640        block_14_expand_relu[0][0]       \n",
      "__________________________________________________________________________________________________\n",
      "block_14_depthwise_BN (BatchNor (None, 7, 7, 960)    3840        block_14_depthwise[0][0]         \n",
      "__________________________________________________________________________________________________\n",
      "block_14_depthwise_relu (ReLU)  (None, 7, 7, 960)    0           block_14_depthwise_BN[0][0]      \n",
      "__________________________________________________________________________________________________\n",
      "block_14_project (Conv2D)       (None, 7, 7, 160)    153600      block_14_depthwise_relu[0][0]    \n",
      "__________________________________________________________________________________________________\n",
      "block_14_project_BN (BatchNorma (None, 7, 7, 160)    640         block_14_project[0][0]           \n",
      "__________________________________________________________________________________________________\n",
      "block_14_add (Add)              (None, 7, 7, 160)    0           block_13_project_BN[0][0]        \n",
      "                                                                 block_14_project_BN[0][0]        \n",
      "__________________________________________________________________________________________________\n",
      "block_15_expand (Conv2D)        (None, 7, 7, 960)    153600      block_14_add[0][0]               \n",
      "__________________________________________________________________________________________________\n",
      "block_15_expand_BN (BatchNormal (None, 7, 7, 960)    3840        block_15_expand[0][0]            \n",
      "__________________________________________________________________________________________________\n",
      "block_15_expand_relu (ReLU)     (None, 7, 7, 960)    0           block_15_expand_BN[0][0]         \n",
      "__________________________________________________________________________________________________\n",
      "block_15_depthwise (DepthwiseCo (None, 7, 7, 960)    8640        block_15_expand_relu[0][0]       \n",
      "__________________________________________________________________________________________________\n",
      "block_15_depthwise_BN (BatchNor (None, 7, 7, 960)    3840        block_15_depthwise[0][0]         \n",
      "__________________________________________________________________________________________________\n",
      "block_15_depthwise_relu (ReLU)  (None, 7, 7, 960)    0           block_15_depthwise_BN[0][0]      \n",
      "__________________________________________________________________________________________________\n",
      "block_15_project (Conv2D)       (None, 7, 7, 160)    153600      block_15_depthwise_relu[0][0]    \n",
      "__________________________________________________________________________________________________\n",
      "block_15_project_BN (BatchNorma (None, 7, 7, 160)    640         block_15_project[0][0]           \n",
      "__________________________________________________________________________________________________\n",
      "block_15_add (Add)              (None, 7, 7, 160)    0           block_14_add[0][0]               \n",
      "                                                                 block_15_project_BN[0][0]        \n",
      "__________________________________________________________________________________________________\n",
      "block_16_expand (Conv2D)        (None, 7, 7, 960)    153600      block_15_add[0][0]               \n",
      "__________________________________________________________________________________________________\n",
      "block_16_expand_BN (BatchNormal (None, 7, 7, 960)    3840        block_16_expand[0][0]            \n",
      "__________________________________________________________________________________________________\n",
      "block_16_expand_relu (ReLU)     (None, 7, 7, 960)    0           block_16_expand_BN[0][0]         \n",
      "__________________________________________________________________________________________________\n",
      "block_16_depthwise (DepthwiseCo (None, 7, 7, 960)    8640        block_16_expand_relu[0][0]       \n",
      "__________________________________________________________________________________________________\n",
      "block_16_depthwise_BN (BatchNor (None, 7, 7, 960)    3840        block_16_depthwise[0][0]         \n",
      "__________________________________________________________________________________________________\n",
      "block_16_depthwise_relu (ReLU)  (None, 7, 7, 960)    0           block_16_depthwise_BN[0][0]      \n",
      "__________________________________________________________________________________________________\n",
      "block_16_project (Conv2D)       (None, 7, 7, 320)    307200      block_16_depthwise_relu[0][0]    \n",
      "__________________________________________________________________________________________________\n",
      "block_16_project_BN (BatchNorma (None, 7, 7, 320)    1280        block_16_project[0][0]           \n",
      "__________________________________________________________________________________________________\n",
      "Conv_1 (Conv2D)                 (None, 7, 7, 1280)   409600      block_16_project_BN[0][0]        \n",
      "__________________________________________________________________________________________________\n",
      "Conv_1_bn (BatchNormalization)  (None, 7, 7, 1280)   5120        Conv_1[0][0]                     \n",
      "__________________________________________________________________________________________________\n",
      "out_relu (ReLU)                 (None, 7, 7, 1280)   0           Conv_1_bn[0][0]                  \n",
      "__________________________________________________________________________________________________\n",
      "global_average_pooling2d (Globa (None, 1280)         0           out_relu[0][0]                   \n",
      "__________________________________________________________________________________________________\n",
      "dense (Dense)                   (None, 128)          163968      global_average_pooling2d[0][0]   \n",
      "__________________________________________________________________________________________________\n",
      "dense_1 (Dense)                 (None, 128)          16512       dense[0][0]                      \n",
      "__________________________________________________________________________________________________\n",
      "dense_2 (Dense)                 (None, 20)           2580        dense_1[0][0]                    \n",
      "==================================================================================================\n",
      "Total params: 2,441,044\n",
      "Trainable params: 183,060\n",
      "Non-trainable params: 2,257,984\n",
      "__________________________________________________________________________________________________\n",
      "None\n"
     ]
    }
   ],
   "source": [
    "inputs = pretrained_model.input\n",
    "\n",
    "x = tf.keras.layers.Dense(128, activation='relu')(pretrained_model.output)\n",
    "#128 neurons\n",
    "x = tf.keras.layers.Dense(128, activation='relu')(x)\n",
    "\n",
    "outputs = tf.keras.layers.Dense(20, activation='softmax')(x)\n",
    "#classification layer\n",
    "model = tf.keras.Model(inputs, outputs)\n",
    "\n",
    "\n",
    "print(model.summary())"
   ]
  },
  {
   "cell_type": "markdown",
   "id": "0d02d57d",
   "metadata": {
    "papermill": {
     "duration": 0.008139,
     "end_time": "2023-12-03T02:33:17.998790",
     "exception": false,
     "start_time": "2023-12-03T02:33:17.990651",
     "status": "completed"
    },
    "tags": []
   },
   "source": [
    "**training**"
   ]
  },
  {
   "cell_type": "code",
   "execution_count": 10,
   "id": "11392ef4",
   "metadata": {
    "execution": {
     "iopub.execute_input": "2023-12-03T02:33:18.016666Z",
     "iopub.status.busy": "2023-12-03T02:33:18.016126Z",
     "iopub.status.idle": "2023-12-03T02:40:52.552315Z",
     "shell.execute_reply": "2023-12-03T02:40:52.551585Z"
    },
    "papermill": {
     "duration": 454.547517,
     "end_time": "2023-12-03T02:40:52.554416",
     "exception": false,
     "start_time": "2023-12-03T02:33:18.006899",
     "status": "completed"
    },
    "tags": []
   },
   "outputs": [
    {
     "name": "stdout",
     "output_type": "stream",
     "text": [
      "Epoch 1/10\n",
      "46/46 [==============================] - 59s 1s/step - loss: 2.1259 - accuracy: 0.3880 - val_loss: 1.3452 - val_accuracy: 0.6198\n",
      "Epoch 2/10\n",
      "46/46 [==============================] - 45s 979ms/step - loss: 0.8224 - accuracy: 0.7685 - val_loss: 1.0291 - val_accuracy: 0.7052\n",
      "Epoch 3/10\n",
      "46/46 [==============================] - 45s 985ms/step - loss: 0.4623 - accuracy: 0.8798 - val_loss: 0.8423 - val_accuracy: 0.7493\n",
      "Epoch 4/10\n",
      "46/46 [==============================] - 44s 964ms/step - loss: 0.2837 - accuracy: 0.9320 - val_loss: 0.7757 - val_accuracy: 0.7686\n",
      "Epoch 5/10\n",
      "46/46 [==============================] - 44s 967ms/step - loss: 0.1467 - accuracy: 0.9746 - val_loss: 0.8162 - val_accuracy: 0.7658\n",
      "Epoch 6/10\n",
      "46/46 [==============================] - 43s 954ms/step - loss: 0.0935 - accuracy: 0.9890 - val_loss: 0.7817 - val_accuracy: 0.7741\n",
      "Epoch 7/10\n",
      "46/46 [==============================] - 44s 959ms/step - loss: 0.0461 - accuracy: 0.9973 - val_loss: 0.7745 - val_accuracy: 0.7741\n",
      "Epoch 8/10\n",
      "46/46 [==============================] - 43s 917ms/step - loss: 0.0310 - accuracy: 0.9979 - val_loss: 0.7777 - val_accuracy: 0.7879\n",
      "Epoch 9/10\n",
      "46/46 [==============================] - 43s 950ms/step - loss: 0.0176 - accuracy: 1.0000 - val_loss: 0.8273 - val_accuracy: 0.7548\n",
      "Epoch 10/10\n",
      "46/46 [==============================] - 43s 944ms/step - loss: 0.0123 - accuracy: 1.0000 - val_loss: 0.8176 - val_accuracy: 0.7658\n"
     ]
    }
   ],
   "source": [
    "model.compile(\n",
    "    optimizer='adam',\n",
    "    loss='categorical_crossentropy',\n",
    "    #as classes are encoded as vectors by the generator so we use categorical_crossentropy\n",
    "    metrics=['accuracy']\n",
    ")\n",
    "\n",
    "history = model.fit(\n",
    "    train_images,\n",
    "    validation_data=validation_images,\n",
    "    epochs=10,\n",
    "    #INCREASE NO. OF EPOCHS TO INCREASE ACCURACY (77.46% ACCURACY ACHIEVED ON 100 EPOCHS)\n",
    "    callbacks=[\n",
    "        tf.keras.callbacks.EarlyStopping(\n",
    "            monitor='validation_loss',\n",
    "            patience=3,\n",
    "            #when validation loss stops improving for 3 consecutive epochs training will be stopped and best epochs weights are restored\n",
    "            restore_best_weights=True\n",
    "        )\n",
    "    ]\n",
    ")"
   ]
  },
  {
   "cell_type": "markdown",
   "id": "5c5f5439",
   "metadata": {
    "papermill": {
     "duration": 0.042335,
     "end_time": "2023-12-03T02:40:52.640844",
     "exception": false,
     "start_time": "2023-12-03T02:40:52.598509",
     "status": "completed"
    },
    "tags": []
   },
   "source": [
    "**results**"
   ]
  },
  {
   "cell_type": "code",
   "execution_count": 11,
   "id": "5afb826e",
   "metadata": {
    "execution": {
     "iopub.execute_input": "2023-12-03T02:40:52.726659Z",
     "iopub.status.busy": "2023-12-03T02:40:52.726277Z",
     "iopub.status.idle": "2023-12-03T02:41:14.877916Z",
     "shell.execute_reply": "2023-12-03T02:41:14.877020Z"
    },
    "papermill": {
     "duration": 22.197199,
     "end_time": "2023-12-03T02:41:14.880053",
     "exception": false,
     "start_time": "2023-12-03T02:40:52.682854",
     "status": "completed"
    },
    "tags": []
   },
   "outputs": [
    {
     "name": "stdout",
     "output_type": "stream",
     "text": [
      "Test Accuracy: 77.34%\n"
     ]
    }
   ],
   "source": [
    "results = model.evaluate(test_images, verbose=0)\n",
    "#gives loss and accuracy for test set\n",
    "print(\"Test Accuracy: {:.2f}%\".format(results[1] * 100))"
   ]
  },
  {
   "cell_type": "markdown",
   "id": "349f9f89",
   "metadata": {
    "papermill": {
     "duration": 0.042235,
     "end_time": "2023-12-03T02:41:14.965767",
     "exception": false,
     "start_time": "2023-12-03T02:41:14.923532",
     "status": "completed"
    },
    "tags": []
   },
   "source": [
    "**predictions**"
   ]
  },
  {
   "cell_type": "code",
   "execution_count": 12,
   "id": "a6884079",
   "metadata": {
    "execution": {
     "iopub.execute_input": "2023-12-03T02:41:15.053355Z",
     "iopub.status.busy": "2023-12-03T02:41:15.052546Z",
     "iopub.status.idle": "2023-12-03T02:41:34.950374Z",
     "shell.execute_reply": "2023-12-03T02:41:34.949527Z"
    },
    "papermill": {
     "duration": 19.944246,
     "end_time": "2023-12-03T02:41:34.952667",
     "exception": false,
     "start_time": "2023-12-03T02:41:15.008421",
     "status": "completed"
    },
    "tags": []
   },
   "outputs": [],
   "source": [
    "predictions = np.argmax(model.predict(test_images), axis=1)\n",
    "\n",
    "cm = confusion_matrix(test_images.labels, predictions)\n",
    "clr = classification_report(test_images.labels, predictions, target_names=test_images.class_indices, zero_division=0)"
   ]
  },
  {
   "cell_type": "code",
   "execution_count": 13,
   "id": "1da5baf7",
   "metadata": {
    "execution": {
     "iopub.execute_input": "2023-12-03T02:41:35.040412Z",
     "iopub.status.busy": "2023-12-03T02:41:35.040058Z",
     "iopub.status.idle": "2023-12-03T02:41:36.491155Z",
     "shell.execute_reply": "2023-12-03T02:41:36.490311Z"
    },
    "papermill": {
     "duration": 1.497531,
     "end_time": "2023-12-03T02:41:36.493794",
     "exception": false,
     "start_time": "2023-12-03T02:41:34.996263",
     "status": "completed"
    },
    "tags": []
   },
   "outputs": [
    {
     "data": {
      "image/png": "[encoded data removed]",
      "text/plain": [
       "<Figure size 432x432 with 1 Axes>"
      ]
     },
     "metadata": {
      "needs_background": "light"
     },
     "output_type": "display_data"
    }
   ],
   "source": [
    "plt.figure(figsize=(6, 6))\n",
    "sns.heatmap(cm, annot=True, fmt='g', vmin=0, cmap='Blues', cbar=False)\n",
    "plt.xticks(ticks=np.arange(20) + 0.5, labels=test_images.class_indices, rotation=90)\n",
    "plt.yticks(ticks=np.arange(20) + 0.5, labels=test_images.class_indices, rotation=0)\n",
    "plt.xlabel(\"Predicted\")\n",
    "plt.ylabel(\"Actual\")\n",
    "plt.title(\"Confusion Matrix\")\n",
    "plt.show()"
   ]
  },
  {
   "cell_type": "code",
   "execution_count": 14,
   "id": "78c01264",
   "metadata": {
    "execution": {
     "iopub.execute_input": "2023-12-03T02:41:36.582473Z",
     "iopub.status.busy": "2023-12-03T02:41:36.581805Z",
     "iopub.status.idle": "2023-12-03T02:41:36.586294Z",
     "shell.execute_reply": "2023-12-03T02:41:36.585586Z"
    },
    "papermill": {
     "duration": 0.050716,
     "end_time": "2023-12-03T02:41:36.588456",
     "exception": false,
     "start_time": "2023-12-03T02:41:36.537740",
     "status": "completed"
    },
    "tags": []
   },
   "outputs": [
    {
     "name": "stdout",
     "output_type": "stream",
     "text": [
      "Classification Report:\n",
      "----------------------\n",
      "                precision    recall  f1-score   support\n",
      "\n",
      "       burger       0.97      0.97      0.97        38\n",
      "  butter_naan       0.76      0.74      0.75        38\n",
      "         chai       0.94      0.89      0.92        38\n",
      "      chapati       0.50      0.61      0.55        38\n",
      "chole_bhature       0.81      0.81      0.81        31\n",
      "  dal_makhani       0.69      0.85      0.76        40\n",
      "       dhokla       0.79      0.77      0.78        39\n",
      "   fried_rice       0.85      0.87      0.86        39\n",
      "         idli       0.71      0.68      0.69        40\n",
      "       jalebi       0.94      0.88      0.91        33\n",
      " kaathi_rolls       0.72      0.67      0.69        39\n",
      " kadai_paneer       0.71      0.86      0.78        35\n",
      "        kulfi       0.75      0.75      0.75        44\n",
      "  masala_dosa       0.77      0.73      0.75        37\n",
      "        momos       0.79      0.91      0.85        34\n",
      "   paani_puri       0.79      0.87      0.83        39\n",
      "       pakode       0.62      0.72      0.67        39\n",
      "    pav_bhaji       0.71      0.62      0.66        52\n",
      "        pizza       0.91      0.83      0.87        35\n",
      "       samosa       0.92      0.62      0.74        53\n",
      "\n",
      "     accuracy                           0.77       781\n",
      "    macro avg       0.78      0.78      0.78       781\n",
      " weighted avg       0.78      0.77      0.77       781\n",
      "\n"
     ]
    }
   ],
   "source": [
    "print(\"Classification Report:\\n----------------------\\n\", clr)"
   ]
  }
 ],
 "metadata": {
  "kaggle": {
   "accelerator": "gpu",
   "dataSources": [
    {
     "datasetId": 1147479,
     "sourceId": 1923965,
     "sourceType": "datasetVersion"
    }
   ],
   "dockerImageVersionId": 30198,
   "isGpuEnabled": true,
   "isInternetEnabled": true,
   "language": "python",
   "sourceType": "notebook"
  },
  "kernelspec": {
   "display_name": "Python 3",
   "language": "python",
   "name": "python3"
  },
  "language_info": {
   "codemirror_mode": {
    "name": "ipython",
    "version": 3
   },
   "file_extension": ".py",
   "mimetype": "text/x-python",
   "name": "python",
   "nbconvert_exporter": "python",
   "pygments_lexer": "ipython3",
   "version": "3.7.12"
  },
  "papermill": {
   "default_parameters": {},
   "duration": 522.551763,
   "end_time": "2023-12-03T02:41:39.615482",
   "environment_variables": {},
   "exception": null,
   "input_path": "__notebook__.ipynb",
   "output_path": "__notebook__.ipynb",
   "parameters": {},
   "start_time": "2023-12-03T02:32:57.063719",
   "version": "2.3.4"
  }
 },
 "nbformat": 4,
 "nbformat_minor": 5
}
